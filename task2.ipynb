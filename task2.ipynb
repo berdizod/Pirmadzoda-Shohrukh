{
 "cells": [
  {
   "cell_type": "markdown",
   "id": "c831d60a",
   "metadata": {},
   "source": [
    "# Задачи на дом \n",
    "### Выполнил студент группы БСТ1901 Пирмадзода Шохрух"
   ]
  },
  {
   "cell_type": "markdown",
   "id": "06a69b1b",
   "metadata": {},
   "source": [
    "## Задача 2.  «Максимальное число»\n"
   ]
  },
  {
   "cell_type": "markdown",
   "id": "39e0c15d",
   "metadata": {},
   "source": [
    "Дан массив неотрицательных целых чисел nums. Расположите их в таком порядке, чтобы\n",
    "вместе они образовали максимально возможное число.\n",
    "\n",
    "Замечание: Результат может быть очень большим числом, поэтому представьте его как\n",
    "string, а не integer."
   ]
  },
  {
   "cell_type": "markdown",
   "id": "11643b4e",
   "metadata": {},
   "source": [
    "**Пример** 2.1:\n",
    "\n",
    "Ввод: nums = [10,2]\n",
    "\n",
    "Вывод: ”210”\n",
    "    \n",
    "**Пример** 2.2:\n",
    "\n",
    "Ввод: nums = [3,30,34,5,9]\n",
    "\n",
    "Вывод: ”9534330”\n",
    "    \n",
    "**Пример** 2.3:\n",
    "\n",
    "Ввод: nums = [1]\n",
    "\n",
    "Вывод: ”1”\n",
    "    \n",
    "**Пример** 2.4:\n",
    "\n",
    "Ввод: nums = [10]\n",
    "\n",
    "Вывод: ”10”\n"
   ]
  },
  {
   "cell_type": "code",
   "execution_count": null,
   "id": "74dab124",
   "metadata": {},
   "outputs": [],
   "source": []
  },
  {
   "cell_type": "markdown",
   "id": "2e6e7c77",
   "metadata": {},
   "source": [
    "## Вывод"
   ]
  },
  {
   "cell_type": "code",
   "execution_count": 15,
   "id": "76bc0f32",
   "metadata": {},
   "outputs": [
    {
     "name": "stdout",
     "output_type": "stream",
     "text": [
      "Пример 2.1:\n",
      "210\n",
      "Пример 2.2:\n",
      "9534330\n",
      "Пример 2.3:\n",
      "1\n",
      "Пример 2.4:\n",
      "10\n"
     ]
    }
   ],
   "source": [
    "def highest_comb(L):\n",
    "    max_length = len(str(max(L)))\n",
    "    L = map(str, L)  \n",
    "    def sort_key(s):\n",
    "        return s + s[-1] * (max_length - len(s))\n",
    "\n",
    "    sorted_list = sorted(L, key=sort_key, reverse=True)\n",
    "    return ''.join(sorted_list)\n",
    "\n",
    "print('Пример 2.1:')\n",
    "print(highest_comb([10, 2]))                     # 210\n",
    "print('Пример 2.2:')\n",
    "print(highest_comb([3, 30, 34, 5, 9]))           # 9534330\n",
    "print('Пример 2.3:')\n",
    "print(highest_comb([1]))                         # 1\n",
    "print('Пример 2.4:')\n",
    "print(highest_comb([10]))                        # 10\n",
    " "
   ]
  },
  {
   "cell_type": "code",
   "execution_count": null,
   "id": "03797140",
   "metadata": {},
   "outputs": [],
   "source": []
  }
 ],
 "metadata": {
  "kernelspec": {
   "display_name": "Python 3",
   "language": "python",
   "name": "python3"
  },
  "language_info": {
   "codemirror_mode": {
    "name": "ipython",
    "version": 3
   },
   "file_extension": ".py",
   "mimetype": "text/x-python",
   "name": "python",
   "nbconvert_exporter": "python",
   "pygments_lexer": "ipython3",
   "version": "3.9.5"
  }
 },
 "nbformat": 4,
 "nbformat_minor": 5
}
