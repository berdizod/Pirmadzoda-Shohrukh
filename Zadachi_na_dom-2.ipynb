{
 "cells": [
  {
   "cell_type": "markdown",
   "id": "21287465",
   "metadata": {},
   "source": [
    "# Задачи на дом \n",
    "### Выполнил студент группы БСТ1901 Пирмадзода Шохрух"
   ]
  },
  {
   "cell_type": "markdown",
   "id": "6887d373",
   "metadata": {},
   "source": [
    "## Задача 2. Правильный подмногоугольник\n",
    "\n",
    "Задан правильный N-угольник. Требуется выбрать наименьшее количество его вершин, которые также образуют правильный многоугольник.\n",
    "\n",
    "**Входные данные**\n",
    "\n",
    "Входные данные содержат одно целое число N (3 ≤ N ≤ 10^12).\n",
    "\n",
    "**Вывод**\n",
    "\n",
    "Выведите одно число — наименьшее количество вершин заданного многоугольника, которые образуют правильный многоугольник."
   ]
  },
  {
   "cell_type": "code",
   "execution_count": 1,
   "id": "25634ab7",
   "metadata": {},
   "outputs": [],
   "source": [
    "# 180(n-2 - k) mod 180(n-2) = 0 такое уравнение решить\n",
    "\n",
    "def subpolygon(N):\n",
    "    for i in range(3, int(N**.5)+1):  # так максимум проверок 10^6  \n",
    "        if N % i == 0: return i\n",
    "    if N > 4 and N % 2 == 0:\n",
    "        # многоугольника из 2 вершин не существует\n",
    "        # но второй множитель явно больше 2 (для N > 4), поэтому если ничего из цикла не подошло\n",
    "        # то это число нам подходит\n",
    "        return N / 2\n",
    "    return N\n",
    "\n",
    "assert subpolygon(3) == 3\n",
    "assert subpolygon(4) == 4\n",
    "assert subpolygon(8) == 4\n",
    "assert subpolygon(9) == 3\n",
    "assert subpolygon(10) == 5\n",
    "assert subpolygon(11) == 11\n",
    "assert subpolygon(16) == 4\n",
    "assert subpolygon(5942430146) == 2971215073"
   ]
  },
  {
   "cell_type": "code",
   "execution_count": null,
   "id": "4a35c31f",
   "metadata": {},
   "outputs": [],
   "source": []
  }
 ],
 "metadata": {
  "kernelspec": {
   "display_name": "Python 3",
   "language": "python",
   "name": "python3"
  },
  "language_info": {
   "codemirror_mode": {
    "name": "ipython",
    "version": 3
   },
   "file_extension": ".py",
   "mimetype": "text/x-python",
   "name": "python",
   "nbconvert_exporter": "python",
   "pygments_lexer": "ipython3",
   "version": "3.9.5"
  }
 },
 "nbformat": 4,
 "nbformat_minor": 5
}
