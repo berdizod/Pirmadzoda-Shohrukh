{
 "cells": [
  {
   "cell_type": "markdown",
   "id": "37516839",
   "metadata": {},
   "source": [
    "# Задачи файл \"problems\" \n",
    "### Выполнил студент группы БСТ1901 Пирмадзода Шохрух"
   ]
  },
  {
   "cell_type": "markdown",
   "id": "5a92a126",
   "metadata": {},
   "source": [
    "## Задача 1. «Треугольник с максимальным периметром»"
   ]
  },
  {
   "cell_type": "markdown",
   "id": "4b39d1ab",
   "metadata": {},
   "source": [
    "Массив A состоит из целых положительных чисел ­ длин отрезков. Составьте из трех отрез\u0002ков такой треугольник, чтобы его периметр был максимально возможным. Если невозможно\n",
    "составить треугольник с положительной площадью ­ функция возвращает 0"
   ]
  },
  {
   "cell_type": "code",
   "execution_count": 1,
   "id": "35894007",
   "metadata": {},
   "outputs": [],
   "source": [
    "import numpy"
   ]
  },
  {
   "cell_type": "code",
   "execution_count": 2,
   "id": "90b23d61",
   "metadata": {},
   "outputs": [],
   "source": [
    "def matrixgenerate():\n",
    "    n=int(input())\n",
    "    massiv = numpy.random.random_integers(0, 20, size=(n))\n",
    "    massiv=sorted(massiv, reverse=True)\n",
    "    for i, j in enumerate(massiv):\n",
    "        print(\"massiv[\", i, \"]=\", j)\n",
    "    return massiv"
   ]
  },
  {
   "cell_type": "code",
   "execution_count": 3,
   "id": "b148b783",
   "metadata": {},
   "outputs": [],
   "source": [
    "def perimetr(massiv):\n",
    "    P=0\n",
    "    \n",
    "    for i in range(len(massiv)-2):\n",
    "        if massiv[i]<massiv[i+1]+massiv[i+2]:\n",
    "            return massiv[i]+massiv[i+1]+massiv[i+2]"
   ]
  },
  {
   "cell_type": "code",
   "execution_count": 4,
   "id": "e9109a43",
   "metadata": {},
   "outputs": [
    {
     "name": "stdin",
     "output_type": "stream",
     "text": [
      " 10\n"
     ]
    },
    {
     "name": "stdout",
     "output_type": "stream",
     "text": [
      "massiv[ 0 ]= 20\n",
      "massiv[ 1 ]= 20\n",
      "massiv[ 2 ]= 17\n",
      "massiv[ 3 ]= 15\n",
      "massiv[ 4 ]= 11\n",
      "massiv[ 5 ]= 8\n",
      "massiv[ 6 ]= 5\n",
      "massiv[ 7 ]= 4\n",
      "massiv[ 8 ]= 3\n",
      "massiv[ 9 ]= 0\n",
      "57\n"
     ]
    },
    {
     "name": "stderr",
     "output_type": "stream",
     "text": [
      "/srv/conda/envs/notebook/lib/python3.7/site-packages/ipykernel_launcher.py:3: DeprecationWarning: This function is deprecated. Please call randint(0, 20 + 1) instead\n",
      "  This is separate from the ipykernel package so we can avoid doing imports until\n"
     ]
    }
   ],
   "source": [
    "massiv=matrixgenerate()\n",
    "# leng=int(input())\n",
    "# massiv=[0]*leng\n",
    "# for i in range(len(massiv)):\n",
    "#    massiv[i]=int(input())\n",
    "# sorted(massiv)\n",
    "# for i, j in enumerate(massiv):\n",
    "#    print(\"massiv[\", i, \"]=\", j)\n",
    "P=perimetr(massiv)\n",
    "print(P)"
   ]
  },
  {
   "cell_type": "markdown",
   "id": "5db84d37",
   "metadata": {},
   "source": [
    "## Задача 2. «Максимальное число»"
   ]
  },
  {
   "cell_type": "markdown",
   "id": "6497d827",
   "metadata": {},
   "source": [
    "   Дан массив неотрицательных целых чисел nums. Расположите их в таком порядке, чтобы\n",
    "вместе они образовали максимально возможное число.\n",
    "\n",
    "   **Замечание:** Результат может быть очень большим числом, поэтому представьте его как\n",
    "string, а не integer."
   ]
  },
  {
   "cell_type": "code",
   "execution_count": 12,
   "id": "c0303bd3",
   "metadata": {},
   "outputs": [
    {
     "name": "stdout",
     "output_type": "stream",
     "text": [
      "210\n",
      "9534330\n",
      "1\n",
      "10\n",
      "343234323\n"
     ]
    }
   ],
   "source": [
    "def check(a,b):\n",
    "    one=str(a)+str(b)\n",
    "    two=str(b)+str(a)\n",
    "    if int(one)>int(two):\n",
    "        return True\n",
    "    else:\n",
    "        return False\n",
    "    \n",
    "def shell(massline):\n",
    "    length=len(massline)\n",
    "    l=length\n",
    "    while l>0:\n",
    "        for i in range(length-l):\n",
    "            j=i\n",
    "            while j>=0 and check(massline[j+l], massline[j]):\n",
    "                massline[j], massline[j+l]=massline[j+l], massline[j]\n",
    "                j=j-l\n",
    "        l=int(l/2)\n",
    "    strr=\"\"\n",
    "    for i in range(len(massline)):\n",
    "        strr=strr+\"\"+str(massline[i])\n",
    "    return strr\n",
    "\n",
    "mas1=[10,2]\n",
    "mas2=[3,30,34,5,9]\n",
    "mas3=[1]\n",
    "mas4=[10]\n",
    "mas5=[34323,3432]\n",
    "print(shell(mas1))\n",
    "print(shell(mas2))\n",
    "print(shell(mas3))\n",
    "print(shell(mas4))\n",
    "print(shell(mas5))"
   ]
  },
  {
   "cell_type": "markdown",
   "id": "1b08f716",
   "metadata": {},
   "source": [
    "## Задача 3. «Сортировка диагоналей в матрице»"
   ]
  },
  {
   "cell_type": "markdown",
   "id": "23570d3c",
   "metadata": {},
   "source": [
    "Дана матрица mat размером m * n, значения ­ целочисленные. Напишите функцию, сор\u0002тирующую каждую диагональ матрицы по возрастанию и возвращающую получившуюся мат\u0002рицу"
   ]
  },
  {
   "cell_type": "code",
   "execution_count": 9,
   "id": "0b182015",
   "metadata": {},
   "outputs": [],
   "source": [
    "import numpy"
   ]
  },
  {
   "cell_type": "code",
   "execution_count": 10,
   "id": "895909b1",
   "metadata": {},
   "outputs": [
    {
     "name": "stdin",
     "output_type": "stream",
     "text": [
      "Введите m и n: 3 4\n"
     ]
    },
    {
     "name": "stdout",
     "output_type": "stream",
     "text": [
      "[[17  4  9 11]\n",
      " [18 19 18 17]\n",
      " [12  3 11 19]]\n",
      "заменяет  11  на  17\n",
      "заменяет  3  на  18\n",
      "заменяет  17  на  19\n",
      "\n",
      "\n",
      "[[11  4  9 11]\n",
      " [ 3 17 18 17]\n",
      " [12 18 19 19]]\n"
     ]
    },
    {
     "name": "stderr",
     "output_type": "stream",
     "text": [
      "/srv/conda/envs/notebook/lib/python3.7/site-packages/ipykernel_launcher.py:2: DeprecationWarning: This function is deprecated. Please call randint(0, 20 + 1) instead\n",
      "  \n"
     ]
    }
   ],
   "source": [
    "m, n= map(int, input('Введите m и n:').split(' '))\n",
    "massiv = numpy.random.random_integers(0, 20, size=(m, n))\n",
    "print(massiv)\n",
    "for i in range(0,m):\n",
    "    for j in range(0,n):\n",
    "        l=j\n",
    "        k=i\n",
    "        while k<m and l<n:\n",
    "            if massiv[i][j]>massiv[k][l]:\n",
    "                print (\"заменяет \" , massiv[k][l] ,\" на \" , massiv[i][j] )\n",
    "                massiv[i][j], massiv[k][l]=massiv[k][l], massiv[i][j]\n",
    "            k=k+1\n",
    "            l=l+1\n",
    "print(\"\\n\")\n",
    "print(massiv)"
   ]
  }
 ],
 "metadata": {
  "kernelspec": {
   "display_name": "Python 3",
   "language": "python",
   "name": "python3"
  },
  "language_info": {
   "codemirror_mode": {
    "name": "ipython",
    "version": 3
   },
   "file_extension": ".py",
   "mimetype": "text/x-python",
   "name": "python",
   "nbconvert_exporter": "python",
   "pygments_lexer": "ipython3",
   "version": "3.9.5"
  }
 },
 "nbformat": 4,
 "nbformat_minor": 5
}
