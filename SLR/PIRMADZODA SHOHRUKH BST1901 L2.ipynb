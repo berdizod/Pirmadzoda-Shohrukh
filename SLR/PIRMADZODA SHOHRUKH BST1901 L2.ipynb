{
 "cells": [
  {
   "cell_type": "markdown",
   "id": "2e376527",
   "metadata": {},
   "source": [
    "# Лабораторная работа №2\n",
    "## Выполнил студент группы БСТ1901 Пирмадзода Шохрух \n",
    "\n",
    "Реализовать методы поиска в соответствии с заданием. \n",
    "Организовать генерацию начального набора случайных данных. \n",
    "Для всех вариантов добавить реализацию добавления, поиска и удаления элементов. Оценить время работы каждого алгоритма поиска и сравнить его со временем работы стандартной функции поиска, используемой в выбранном языке программирования.\n",
    "\n",
    "### Задание 1\n"
   ]
  },
  {
   "cell_type": "markdown",
   "id": "8f7f5a06",
   "metadata": {},
   "source": [
    "# Генерация списка\n",
    "import random\n",
    "\n",
    "def random_list(m=50, min=0, max=1019):\n",
    "    return [random.randint(min, max) for _ in range(m)]\n",
    "\n",
    "num = random_list(m=1000)"
   ]
  },
  {
   "cell_type": "markdown",
   "id": "f43e9281",
   "metadata": {},
   "source": [
    "### Бинарный поиск"
   ]
  },
  {
   "cell_type": "code",
   "execution_count": 24,
   "id": "d7b74596",
   "metadata": {},
   "outputs": [],
   "source": [
    "def bin_search(arr, value):\n",
    "    left = 0\n",
    "    right = len(arr) - 1\n",
    "    \n",
    "    while left < right:\n",
    "        mid = (left + right) // 2\n",
    "        if arr[mid] < value:\n",
    "            left = mid + 1\n",
    "        else:\n",
    "            right = mid\n",
    "            \n",
    "    return left"
   ]
  },
  {
   "cell_type": "markdown",
   "id": "776dbde8",
   "metadata": {},
   "source": [
    "### Бинарное дерево"
   ]
  },
  {
   "cell_type": "code",
   "execution_count": 25,
   "id": "62ba4309",
   "metadata": {},
   "outputs": [],
   "source": [
    "class Node:\n",
    "\n",
    "    def __init__(self, data):\n",
    "\n",
    "        self.left = None\n",
    "        self.right = None\n",
    "        self.data = data\n",
    "\n",
    "    def insert(self, data):\n",
    "\n",
    "        if self.data:\n",
    "            if data < self.data:\n",
    "                if self.left is None:\n",
    "                    self.left = Node(data)\n",
    "                else:\n",
    "                    self.left.insert(data)\n",
    "            elif data > self.data:\n",
    "                if self.right is None:\n",
    "                    self.right = Node(data)\n",
    "                else:\n",
    "                    self.right.insert(data) \n",
    "        else:\n",
    "            self.data = data\n",
    "            \n",
    "    def findval(self, lkpval):\n",
    "        if lkpval < self.data:\n",
    "            if self.left is None:\n",
    "                return str(lkpval)+\" Not Found\"\n",
    "            return self.left.findval(lkpval)\n",
    "        elif lkpval > self.data:\n",
    "            if self.right is None:\n",
    "                return str(lkpval)+\" Not Found\"\n",
    "            return self.right.findval(lkpval)\n",
    "        else:\n",
    "            return self.data\n",
    "\n",
    "    def PrintTree(self):\n",
    "        if self.left:\n",
    "            self.left.PrintTree()\n",
    "        print( self.data),\n",
    "        if self.right:\n",
    "            self.right.PrintTree()\n",
    "\n",
    "# Заполняем дерево\n",
    "root = Node(num[0])\n",
    "for m in range(1, len(num)):\n",
    "    root.insert(num[m])\n"
   ]
  },
  {
   "cell_type": "markdown",
   "id": "5c4fe951",
   "metadata": {},
   "source": [
    "### Фибоначчиев поиск"
   ]
  },
  {
   "cell_type": "code",
   "execution_count": 1,
   "id": "bf2991a2",
   "metadata": {},
   "outputs": [],
   "source": [
    "def FibonacciSearch(lys, val):\n",
    "    fibM_minus_2 = 0\n",
    "    fibM_minus_1 = 1\n",
    "    fibM = fibM_minus_1 + fibM_minus_2\n",
    "    while (fibM < len(lys)):\n",
    "        fibM_minus_2 = fibM_minus_1\n",
    "        fibM_minus_1 = fibM\n",
    "        fibM = fibM_minus_1 + fibM_minus_2\n",
    "    index = -1;\n",
    "    while (fibM > 1):\n",
    "        i = min(index + fibM_minus_2, (len(lys)-1))\n",
    "        if (lys[i] < val):\n",
    "            fibM = fibM_minus_1\n",
    "            fibM_minus_1 = fibM_minus_2\n",
    "            fibM_minus_2 = fibM - fibM_minus_1\n",
    "            index = i\n",
    "        elif (lys[i] > val):\n",
    "            fibM = fibM_minus_2\n",
    "            fibM_minus_1 = fibM_minus_1 - fibM_minus_2\n",
    "            fibM_minus_2 = fibM - fibM_minus_1\n",
    "        else :\n",
    "            return i\n",
    "    if(fibM_minus_1 and index < (len(lys)-1) and lys[index+1] == val):\n",
    "        return index+1;\n",
    "    return -1"
   ]
  },
  {
   "cell_type": "markdown",
   "id": "53a2e0e9",
   "metadata": {},
   "source": [
    "### Интерполяционный поиск"
   ]
  },
  {
   "cell_type": "code",
   "execution_count": 27,
   "id": "62078f9a",
   "metadata": {},
   "outputs": [],
   "source": [
    "def interpolation(arr, val):\n",
    "    low = 0\n",
    "    high = len(arr)-1\n",
    "    while low <= high and val >= arr[low] and val <= arr[high]:\n",
    "        m = low + (high-low)*(val-arr[low])//(arr[high]-arr[low])\n",
    "        if arr[m] == val:\n",
    "            return m\n",
    "        elif arr[m] < val:\n",
    "            low = m+1\n",
    "        else: \n",
    "            high = m-1\n",
    "    return -1"
   ]
  },
  {
   "cell_type": "markdown",
   "id": "0953df66",
   "metadata": {},
   "source": [
    "### Время"
   ]
  },
  {
   "cell_type": "code",
   "execution_count": 28,
   "id": "12bb107f",
   "metadata": {},
   "outputs": [
    {
     "name": "stdout",
     "output_type": "stream",
     "text": [
      "Бинарный поиск - 0.0002463349956087768\n",
      "Интерполяционный поиск - 0.00017112999921664596\n",
      "Бинарное дерево - 1.3946992112323642e-05\n"
     ]
    }
   ],
   "source": [
    "import time\n",
    "functions = {\n",
    "    'Бинарный поиск': bin_search,\n",
    "    'Интерполяционный поиск': interpolation,\n",
    "    'Бинарное дерево': Node,\n",
    "}\n",
    "\n",
    "for name, function in functions.items():\n",
    "    time_start = time.perf_counter()\n",
    "    if name == 'Бинарное дерево':\n",
    "        root.findval(num[100])\n",
    "    else:\n",
    "        function(sorted(num), num[100])\n",
    "    print(f'{name} - {time.perf_counter() - time_start}')\n",
    "    "
   ]
  },
  {
   "cell_type": "markdown",
   "id": "0a6fe25a",
   "metadata": {},
   "source": [
    "## Задание 2"
   ]
  },
  {
   "cell_type": "markdown",
   "id": "49cb7270",
   "metadata": {},
   "source": [
    "### Простое рехеширование "
   ]
  },
  {
   "cell_type": "code",
   "execution_count": 29,
   "id": "df2bd039",
   "metadata": {},
   "outputs": [],
   "source": [
    "import random\n",
    "#Простое рехэширование\n",
    "class prost_rehash:\n",
    "    # Конструктор, создание словаря\n",
    "    def __init__(self):\n",
    "        self.rhash=[None]*256\n",
    "        \n",
    "    def keys(self, element): # Формирование ключа\n",
    "        key=0\n",
    "        for i in range(len(element)):\n",
    "            key=key+ord(element[i])\n",
    "        return int(key%256)\n",
    "    \n",
    "    def add(self, element): # Добавление элемента \n",
    "        key=self.keys(element)\n",
    "        while self.rhash[key] is not None:\n",
    "            key=key+1\n",
    "        self.rhash[key]=element\n",
    "                   \n",
    "    def search(self, element): # Поиск элемента\n",
    "        key=self.keys(element)\n",
    "        while self.rhash[key] is not None:\n",
    "            if self.rhash[key]==element:\n",
    "                return key\n",
    "            else:\n",
    "                key=key+1\n",
    "        return None\n",
    "    \n",
    "    def deleted(self, element): # Удаление элемента\n",
    "        key=self.search(element)\n",
    "        while key is not None and self.rhash[key] is not None:\n",
    "            if self.rhash[key]==element:\n",
    "                del self.rhash[key]\n",
    "                key=int(key+1)\n",
    "                while key<len(self.rhash) and self.rhash[key] is not None:\n",
    "                    el=self.rhash.pop(key)\n",
    "                    self.add(el)\n",
    "                    key=key+1\n",
    "                return 1\n",
    "            else:\n",
    "                key=key+1\n",
    "        return -1\n",
    "    \n",
    "    def pr(self): #\n",
    "        for  key, i in enumerate(self.rhash):\n",
    "            if self.rhash[key] is not None:\n",
    "                print(key, \" \", i)"
   ]
  },
  {
   "cell_type": "markdown",
   "id": "26e65f08",
   "metadata": {},
   "source": [
    "### Рехеширование с помощью всевдослучайных чисел"
   ]
  },
  {
   "cell_type": "code",
   "execution_count": 30,
   "id": "2f23a04e",
   "metadata": {},
   "outputs": [],
   "source": [
    "class random_rehash():\n",
    "    # Конструктор, создание словаря\n",
    "    def __init__(self):\n",
    "        self.rhash=[None]*256\n",
    "    \n",
    "    def rand(self, element): #генерация псевдослучайного числа\n",
    "        key=int(0)\n",
    "        for i in range(len(element)):\n",
    "            key=key+ord(element[i])\n",
    "        return key\n",
    "    \n",
    "    def keys(self, key, l): # Формирование ключа\n",
    "        random.seed(l)\n",
    "        return int(key+((random.random()*10000000000000000)%1000))\n",
    "            \n",
    "    \n",
    "    def add(self, element): # Добавление элемента \n",
    "        l=int(0)\n",
    "        key=self.rand(element)\n",
    "        key1=self.keys(key, l)%256\n",
    "        while key1<len(self.rhash) and self.rhash[key1] is not None:\n",
    "            l=l+1\n",
    "            key1= self.keys(key, l)%256\n",
    "        if key1<len(self.rhash):\n",
    "            self.rhash[key1]=element\n",
    "        else:\n",
    "            print(\"Таблица заполнена\")\n",
    "                   \n",
    "    def search(self, element): # Поиск элемента\n",
    "        l=int(0)\n",
    "        key=self.rand(element)\n",
    "        key1=self.keys(key, l)%256\n",
    "        while key1<len(self.rhash) and self.rhash[key1] is not None:\n",
    "            if self.rhash[key1]==element:\n",
    "                return key1\n",
    "            else:\n",
    "                l=l+1\n",
    "                key1=self.keys(key, l)\n",
    "        return None\n",
    "    \n",
    "    def deleted(self, element): # Удаление элемента\n",
    "        l=int(0)\n",
    "        keyn=self.rand(element)\n",
    "        key1=self.keys(keyn, l)%256\n",
    "        key=self.search(element)\n",
    "        if key is not None:\n",
    "            while key is not key1:\n",
    "                l=l+1\n",
    "                key1=self.keys(keyn, l)%256\n",
    "            self.rhash[key]=None\n",
    "            l=l+1\n",
    "            key1=self.keys(keyn, l)%256\n",
    "            while key1<len(self.rhash) and self.rhash[key1] is not None:\n",
    "                el=self.rhash[key1]\n",
    "                self.rhash[key1]=None\n",
    "                self.add(el)\n",
    "                l=l+1\n",
    "                key1=self.keys(keyn, l)%256\n",
    "            return \"Элемент удален\"\n",
    "        else:\n",
    "            return \"Элемент не найден\"\n",
    "                 \n",
    "    def pr(self): #\n",
    "        for key, i in enumerate(self.rhash):\n",
    "            if self.rhash[key] is not None:\n",
    "                print(key, \" \", i)"
   ]
  },
  {
   "cell_type": "markdown",
   "id": "7f522592",
   "metadata": {},
   "source": [
    "### Метод цепочек"
   ]
  },
  {
   "cell_type": "code",
   "execution_count": null,
   "id": "3a79a99f",
   "metadata": {},
   "outputs": [],
   "source": [
    "class chain_rehash:\n",
    "    # Конструктор, создание словаря\n",
    "    def __init__(self):\n",
    "        self.rhash=[[]*0 for i in range(10)]\n",
    "    \n",
    "    def add(self, element):  # Добавление элемента\n",
    "        key=int(0)\n",
    "        for i in range(len(element)):\n",
    "            key=key+ord(element[i])\n",
    "        key=key%10\n",
    "        self.rhash[key].append(element)\n",
    "        \n",
    "        \n",
    "    def search(self, element): #Поиск\n",
    "            key=int(0)\n",
    "            for i in range(len(element)):\n",
    "                key=key+ord(element[i])\n",
    "            key=key%10\n",
    "            if self.rhash[key] is not None:\n",
    "                for i in range(len(self.rhash[key])):\n",
    "                    if self.rhash[key][i]==element:\n",
    "                        return key, i\n",
    "            return None, None\n",
    "            \n",
    "    def deleted(self, element):\n",
    "            key, i=self.search(element)\n",
    "            if key is not None:\n",
    "                del(self.rhash[key][i])\n",
    "                print(\"Элемент успешно удален\")\n",
    "            else:\n",
    "                print(\"Элемент не найден\")\n",
    "                return -1\n",
    "    \n",
    "    def pr(self): #вывод\n",
    "        for key in range(len(self.rhash)):\n",
    "            for i in range(len(self.rhash[key])):\n",
    "                if self.rhash[key][i] is not None:\n",
    "                    print(\"(ключ)\", key, \"- (Элемент)\", self.rhash[key][i])"
   ]
  },
  {
   "cell_type": "markdown",
   "id": "de5d449c",
   "metadata": {},
   "source": [
    "### Время"
   ]
  },
  {
   "cell_type": "code",
   "execution_count": 7,
   "id": "08273a31",
   "metadata": {},
   "outputs": [
    {
     "name": "stdout",
     "output_type": "stream",
     "text": [
      "Выберите метод рехэширования\n",
      "1.Простое рехэширование\n",
      "2.Рехэширование с использованием псевдослучайных числе\n",
      "3.Метод цепочек\n"
     ]
    },
    {
     "name": "stdin",
     "output_type": "stream",
     "text": [
      " 2\n"
     ]
    },
    {
     "name": "stdout",
     "output_type": "stream",
     "text": [
      "Введите количество элементов, которые необходимо добавить\n"
     ]
    },
    {
     "name": "stdin",
     "output_type": "stream",
     "text": [
      " 4\n"
     ]
    },
    {
     "name": "stdout",
     "output_type": "stream",
     "text": [
      "Введите элементы которые необходимо добавить\n"
     ]
    },
    {
     "name": "stdin",
     "output_type": "stream",
     "text": [
      " 5\n",
      " 6\n",
      " 7\n",
      " 8\n"
     ]
    },
    {
     "name": "stdout",
     "output_type": "stream",
     "text": [
      "22   5\n",
      "23   6\n",
      "24   7\n",
      "25   8\n",
      "Найти элемент?\n",
      "1. Да\n",
      "2. Нет\n"
     ]
    },
    {
     "name": "stdin",
     "output_type": "stream",
     "text": [
      " 1\n"
     ]
    },
    {
     "name": "stdout",
     "output_type": "stream",
     "text": [
      "Введите элемент\n"
     ]
    },
    {
     "name": "stdin",
     "output_type": "stream",
     "text": [
      " 5\n"
     ]
    },
    {
     "name": "stdout",
     "output_type": "stream",
     "text": [
      "Элемент найден. Удалить элемент?\n",
      "1. Да\n",
      "2. Нет\n",
      "\n"
     ]
    },
    {
     "name": "stdin",
     "output_type": "stream",
     "text": [
      " 2\n"
     ]
    },
    {
     "name": "stdout",
     "output_type": "stream",
     "text": [
      "Найти элемент?\n",
      "1. Да\n",
      "2. Нет\n"
     ]
    },
    {
     "name": "stdin",
     "output_type": "stream",
     "text": [
      " 2\n"
     ]
    },
    {
     "name": "stdout",
     "output_type": "stream",
     "text": [
      "Продолжить работу\n",
      "1. Да\n",
      "2. Нет\n"
     ]
    },
    {
     "name": "stdin",
     "output_type": "stream",
     "text": [
      " 2\n"
     ]
    }
   ],
   "source": [
    "ln=1\n",
    "while ln==1:\n",
    "    print(\"Выберите метод рехэширования\\n1.Простое рехэширование\\n2.Рехэширование с использованием псевдослучайных числе\\n3.Метод цепочек\")\n",
    "    var=int(input())\n",
    "\n",
    "    if var==3:#реализация метода цепочек\n",
    "        chain=chain_rehash()\n",
    "        print(\"Введите количество элементов, которые необходимо добавить\")\n",
    "        colelement=int(input())\n",
    "        elements=[\"\"]*colelement\n",
    "        print(\"Введите элементы которые необходимо добавить\")\n",
    "        for i in range(colelement):\n",
    "            elements[i]=(input()) #ввод элементов\n",
    "        for i in range(len(elements)):\n",
    "            chain.add(elements[i]) #реализация метода цепочек\n",
    "        chain.pr()\n",
    "        print(\"Найти элемент?\\n1. Да\\n2. Нет\")\n",
    "        ot=int(input())\n",
    "        while(ot==1):\n",
    "            print(\"Введите элемент\")\n",
    "            s=input()\n",
    "            key, el=chain.search(s)#поиск\n",
    "            if key is not None:\n",
    "                print(\"Элемент найден. Удалить элемент?\\n1. Да\\n2. Нет\\n\")\n",
    "                dl=int(input())\n",
    "                if(dl==1):\n",
    "                    chain.deleted(s)\n",
    "                    chain.pr()\n",
    "            else:\n",
    "                print(\"Элемент не найдет\")\n",
    "            print(\"Найти элемент?\\n1. Да\\n2. Нет\")\n",
    "            ot=int(input())\n",
    "        print(\"Продолжить работу\\n1.Да\\n2. Нет\")\n",
    "        ln=int(input())\n",
    "        \n",
    "    if var==1:# Простое рехэширование\n",
    "        pr_rehash=prost_rehash()\n",
    "        print(\"Введите количество элементов, которые необходимо добавить\")\n",
    "        colelement=int(input())\n",
    "        elements=[\"\"]*colelement\n",
    "        print(\"Введите элементы которые необходимо добавить\")\n",
    "        for i in range(colelement):\n",
    "            elements[i]=(input())#ввод элементов\n",
    "        for i in range(len(elements)):\n",
    "            pr_rehash.add(elements[i])\n",
    "        pr_rehash.pr()\n",
    "        print(\"Найти элемент?\\n1. Да\\n2. Нет\")\n",
    "        ot=int(input())\n",
    "        while(ot==1):\n",
    "            print(\"Введите элемент\")\n",
    "            s=input()\n",
    "            key=pr_rehash.search(s)#поиск\n",
    "            if key is not None:\n",
    "                print(\"Элемент найден. Удалить элемент?\\n1. Да\\n2. Нет\\n\")\n",
    "                dl=int(input())\n",
    "                if(dl==1):\n",
    "                    pr_rehash.deleted(s)\n",
    "                    pr_rehash.pr()\n",
    "            else:\n",
    "                print(\"Элемент не найдет\")\n",
    "            print(\"Найти элемент?\\n1. Да\\n2. Нет\")\n",
    "            ot=int(input())\n",
    "        print(\"Продолжить работу\\n1.Да\\n2. Нет\")\n",
    "        ln=int(input())\n",
    "        \n",
    "    if var==2:# Рехэширование с использование псевдослучайных чисел\n",
    "        rand_rehash=random_rehash()\n",
    "        print(\"Введите количество элементов, которые необходимо добавить\")\n",
    "        colelement=int(input())\n",
    "        elements=[\"\"]*colelement\n",
    "        print(\"Введите элементы которые необходимо добавить\")\n",
    "        for i in range(colelement):\n",
    "            elements[i]=(input())#ввод элементов\n",
    "        for i in range(len(elements)):\n",
    "            rand_rehash.add(elements[i])\n",
    "        rand_rehash.pr()\n",
    "        print(\"Найти элемент?\\n1. Да\\n2. Нет\")\n",
    "        ot=int(input())\n",
    "        while(ot==1):\n",
    "            print(\"Введите элемент\")\n",
    "            s=input()\n",
    "            key=rand_rehash.search(s)#поиск\n",
    "            if key is not None:\n",
    "                print(\"Элемент найден. Удалить элемент?\\n1. Да\\n2. Нет\\n\")\n",
    "                dl=int(input())\n",
    "                if(dl==1):\n",
    "                    rand_rehash.deleted(s)\n",
    "                    rand_rehash.pr()\n",
    "            else:\n",
    "                print(\"Элемент не найдет\")\n",
    "            print(\"Найти элемент?\\n1. Да\\n2. Нет\")\n",
    "            ot=int(input())\n",
    "        print(\"Продолжить работу\\n1. Да\\n2. Нет\")\n",
    "        ln=int(input())"
   ]
  },
  {
   "cell_type": "markdown",
   "id": "8a50cf3c",
   "metadata": {},
   "source": [
    "## Задание 3"
   ]
  },
  {
   "cell_type": "markdown",
   "id": "3f2ee9ba",
   "metadata": {},
   "source": [
    "Расставить на стандартной 64-клеточной шахматной доске 8 ферзей так, чтобы ни один из них не находился под боем другого». Подразумевается, что ферзь бьёт все клетки, расположенные по вертикалям, горизонталям и обеим диагоналям\n",
    "Написать программу,  которая находит хотя бы один способ решения задач.\n"
   ]
  },
  {
   "cell_type": "code",
   "execution_count": 11,
   "id": "20893086",
   "metadata": {},
   "outputs": [
    {
     "data": {
      "text/plain": [
       "[[1, 0, 0, 0, 0, 0, 0, 0],\n",
       " [0, 0, 1, 0, 0, 0, 0, 0],\n",
       " [0, 0, 0, 0, 1, 0, 0, 0],\n",
       " [0, 0, 0, 0, 0, 0, 1, 0],\n",
       " [0, 1, 0, 0, 0, 0, 0, 0],\n",
       " [0, 0, 0, 1, 0, 0, 0, 0],\n",
       " [0, 0, 0, 0, 0, 1, 0, 0],\n",
       " [0, 0, 0, 0, 0, 0, 0, 1]]"
      ]
     },
     "execution_count": 11,
     "metadata": {},
     "output_type": "execute_result"
    }
   ],
   "source": [
    "chess = [[0 for _ in range(8)] for _ in range(8)]\n",
    "\n",
    "def can_stand(chess, row, column):\n",
    "    i_p = 0\n",
    "    i_m = 0\n",
    "    for r in range(8):\n",
    "        if chess[r][column] == 1:\n",
    "            return False\n",
    "    for c in range(column):\n",
    "        if chess[row][c] == 1:\n",
    "            return False\n",
    "    for r in range(row, 8):\n",
    "        if column + i_p >= 8: break\n",
    "        if chess[r][column + i_p] == 1 or chess[r][column - i_p] == 1:\n",
    "            return False\n",
    "        i_p += 1\n",
    "    for r in range(row, -1, -1):\n",
    "        if column - i_m >= 8: break\n",
    "        if chess[r][column + i_m] == 1 or chess[r][column - i_m] == 1:\n",
    "            return False\n",
    "        i_m -= 1\n",
    "    return True\n",
    "\n",
    "\n",
    "def queen(chess, row=0, column=0):\n",
    "    if row > 7:\n",
    "        return True\n",
    "    for col in range(column, 8):\n",
    "        if can_stand(chess, row, col):\n",
    "            chess[row][col] = 1\n",
    "            if col + 1 >= 7: col = 0\n",
    "            queen(chess, row=row+1, column=col)\n",
    "            break\n",
    "\n",
    "queen(chess)\n",
    "chess"
   ]
  },
  {
   "cell_type": "markdown",
   "id": "e24b5920",
   "metadata": {},
   "source": [
    "## Задание 3 (резерв)"
   ]
  },
  {
   "cell_type": "code",
   "execution_count": 1,
   "id": "88e067c3",
   "metadata": {},
   "outputs": [
    {
     "name": "stdin",
     "output_type": "stream",
     "text": [
      " 8\n"
     ]
    },
    {
     "name": "stdout",
     "output_type": "stream",
     "text": [
      ". Ф . . . . . .\n",
      ". . . Ф . . . .\n",
      ". . . . . Ф . .\n",
      ". . . . . . . Ф\n",
      ". . Ф . . . . .\n",
      "Ф . . . . . . .\n",
      ". . . . . . Ф .\n",
      ". . . . Ф . . .\n",
      "\n",
      "\n",
      ". . . . Ф . . .\n",
      ". . . . . . Ф .\n",
      "Ф . . . . . . .\n",
      ". . Ф . . . . .\n",
      ". . . . . . . Ф\n",
      ". . . . . Ф . .\n",
      ". . . Ф . . . .\n",
      ". Ф . . . . . .\n"
     ]
    }
   ],
   "source": [
    "n=int(input())\n",
    "if n%6==2:\n",
    "    even=list(range(1,n,2))\n",
    "    odd=list(range(2,n,2))\n",
    "    odd[1]=0\n",
    "    odd.append(4)\n",
    "elif n%6==3:\n",
    "    even=list(range(3, n, 2))\n",
    "    odd=list(range(4, n, 2))\n",
    "    even.append(1)\n",
    "    odd.append(0)\n",
    "    odd.append(2)\n",
    "else:\n",
    "    even=list(range(1,n,2))\n",
    "    odd=list(range(0,n,2))\n",
    "rez=even+odd\n",
    "row=[\".\"]*n\n",
    "for i in range(n):\n",
    "    j=rez[i]\n",
    "    row[j]=\"Ф\"\n",
    "    print(*row)\n",
    "    row[j]=\".\"\n",
    "i=n-1\n",
    "print(\"\\n\")\n",
    "while i>=0:\n",
    "    j=rez[i]\n",
    "    row[j]=\"Ф\"\n",
    "    print(*row)\n",
    "    row[j]=\".\"\n",
    "    i-=1"
   ]
  },
  {
   "cell_type": "code",
   "execution_count": null,
   "id": "04a0a242",
   "metadata": {},
   "outputs": [],
   "source": []
  }
 ],
 "metadata": {
  "kernelspec": {
   "display_name": "Python 3",
   "language": "python",
   "name": "python3"
  },
  "language_info": {
   "codemirror_mode": {
    "name": "ipython",
    "version": 3
   },
   "file_extension": ".py",
   "mimetype": "text/x-python",
   "name": "python",
   "nbconvert_exporter": "python",
   "pygments_lexer": "ipython3",
   "version": "3.9.5"
  }
 },
 "nbformat": 4,
 "nbformat_minor": 5
}
